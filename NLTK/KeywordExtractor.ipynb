{
 "cells": [
  {
   "cell_type": "markdown",
   "metadata": {},
   "source": [
    "# MWETokenizer\n"
   ]
  },
  {
   "cell_type": "code",
   "execution_count": 1,
   "metadata": {},
   "outputs": [],
   "source": [
    "from nltk.tokenize import MWETokenizer\n",
    "from nltk import sent_tokenize, word_tokenize\n",
    "import nltk.data\n",
    "#nltk.download(''popular)\n"
   ]
  },
  {
   "cell_type": "code",
   "execution_count": 2,
   "metadata": {},
   "outputs": [],
   "source": [
    "testFilename = 'ir.txt'\n",
    "testFile = open(testFilename, 'rt')\n",
    "testParagraph = testFile.read()\n",
    "testFile.close()"
   ]
  },
  {
   "cell_type": "code",
   "execution_count": 3,
   "metadata": {},
   "outputs": [
    {
     "name": "stdout",
     "output_type": "stream",
     "text": [
      "['CREATE', 'AS', 'ASDASDF', 'DF', 'F', 'RECTANGLE', 'ASDSASDF', 'D', 'FDFD', 'EXTRUDE', 'IT', '.']\n"
     ]
    }
   ],
   "source": [
    "from nltk.tokenize import word_tokenize\n",
    "testTokens = word_tokenize(testParagraph.upper())\n",
    "print(testTokens[:100])"
   ]
  },
  {
   "cell_type": "code",
   "execution_count": 4,
   "metadata": {},
   "outputs": [
    {
     "name": "stdout",
     "output_type": "stream",
     "text": [
      "['CREATE', 'AS', 'ASDASDF', 'DF', 'F', 'RECTANGLE', 'ASDSASDF', 'D', 'FDFD', 'EXTRUDE', 'IT']\n"
     ]
    }
   ],
   "source": [
    "testwords = [word for word in testTokens if word.isalpha()]\n",
    "print(testwords[:100])"
   ]
  },
  {
   "cell_type": "code",
   "execution_count": 5,
   "metadata": {},
   "outputs": [
    {
     "name": "stdout",
     "output_type": "stream",
     "text": [
      "['CREATE', 'AS', 'ASDASDF', 'DF', 'F', 'RECTANGLE', 'ASDSASDF', 'D', 'FDFD', 'EXTRUDE', 'IT']\n"
     ]
    }
   ],
   "source": [
    "from nltk.corpus import stopwords\n",
    "stop_words = stopwords.words('english')\n",
    "testwords = [w for w in testwords if not w in stop_words]\n",
    "print(testwords[:100])"
   ]
  },
  {
   "cell_type": "markdown",
   "metadata": {},
   "source": [
    "# ----------------"
   ]
  },
  {
   "cell_type": "code",
   "execution_count": 6,
   "metadata": {},
   "outputs": [],
   "source": [
    "keywordsFilename = 'keywords.txt'\n",
    "keywordsFile = open(keywordsFilename, 'rt')\n",
    "keywordsParagraph = keywordsFile.read()\n",
    "keywordsFile.close()\n"
   ]
  },
  {
   "cell_type": "code",
   "execution_count": 7,
   "metadata": {},
   "outputs": [],
   "source": [
    "from nltk.tokenize import word_tokenize\n",
    "keywordsTokens = word_tokenize(keywordsParagraph.upper())"
   ]
  },
  {
   "cell_type": "code",
   "execution_count": 8,
   "metadata": {},
   "outputs": [],
   "source": [
    "mwe = MWETokenizer([k.upper().split() for k in keywordsTokens], separator='_')"
   ]
  },
  {
   "cell_type": "code",
   "execution_count": 9,
   "metadata": {},
   "outputs": [],
   "source": [
    "keywordsWords = [word for word in keywordsTokens if word.isalpha()]\n"
   ]
  },
  {
   "cell_type": "code",
   "execution_count": 10,
   "metadata": {},
   "outputs": [],
   "source": [
    "tokenized_paragraph = [token for token in mwe.tokenize(testwords)\n",
    "                       if token.replace('_', ' ') in keywordsWords]"
   ]
  },
  {
   "cell_type": "code",
   "execution_count": 11,
   "metadata": {},
   "outputs": [
    {
     "name": "stdout",
     "output_type": "stream",
     "text": [
      "['RECTANGLE', 'EXTRUDE']\n"
     ]
    }
   ],
   "source": [
    "print(tokenized_paragraph)"
   ]
  },
  {
   "cell_type": "code",
   "execution_count": null,
   "metadata": {},
   "outputs": [],
   "source": []
  },
  {
   "cell_type": "code",
   "execution_count": null,
   "metadata": {},
   "outputs": [],
   "source": []
  }
 ],
 "metadata": {
  "kernelspec": {
   "display_name": "Python 3",
   "language": "python",
   "name": "python3"
  },
  "language_info": {
   "codemirror_mode": {
    "name": "ipython",
    "version": 3
   },
   "file_extension": ".py",
   "mimetype": "text/x-python",
   "name": "python",
   "nbconvert_exporter": "python",
   "pygments_lexer": "ipython3",
   "version": "3.6.5"
  }
 },
 "nbformat": 4,
 "nbformat_minor": 2
}
